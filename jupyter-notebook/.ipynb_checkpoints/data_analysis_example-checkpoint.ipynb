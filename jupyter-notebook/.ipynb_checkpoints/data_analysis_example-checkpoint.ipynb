{
 "cells": [
  {
   "cell_type": "markdown",
   "id": "7b5b5d37",
   "metadata": {},
   "source": [
    "# Converting Addresses to Coordinates"
   ]
  },
  {
   "cell_type": "code",
   "execution_count": 2,
   "id": "b5e0bd7c",
   "metadata": {},
   "outputs": [],
   "source": [
    "import os\n",
    "import pandas\n",
    "from geopy.geocoders import ArcGIS"
   ]
  },
  {
   "cell_type": "code",
   "execution_count": 4,
   "id": "cf0aa03f",
   "metadata": {},
   "outputs": [
    {
     "data": {
      "text/plain": [
       "['.ipynb_checkpoints',\n",
       " 'data.txt',\n",
       " 'loading_csv_file.ipynb',\n",
       " 'pandas_dataframe.ipynb',\n",
       " 'practice_code.ipynb',\n",
       " 'supermarkets-commas.txt',\n",
       " 'supermarkets-semi-colons.txt',\n",
       " 'supermarkets.csv',\n",
       " 'supermarkets.json',\n",
       " 'supermarkets.xlsx',\n",
       " 'Untitled.ipynb']"
      ]
     },
     "execution_count": 4,
     "metadata": {},
     "output_type": "execute_result"
    }
   ],
   "source": [
    "os.listdir()"
   ]
  },
  {
   "cell_type": "code",
   "execution_count": 5,
   "id": "73ce01f5",
   "metadata": {},
   "outputs": [],
   "source": [
    "smdf = pandas.read_csv(\"supermarkets.csv\")"
   ]
  },
  {
   "cell_type": "code",
   "execution_count": 6,
   "id": "25f5701d",
   "metadata": {},
   "outputs": [
    {
     "data": {
      "text/html": [
       "<div>\n",
       "<style scoped>\n",
       "    .dataframe tbody tr th:only-of-type {\n",
       "        vertical-align: middle;\n",
       "    }\n",
       "\n",
       "    .dataframe tbody tr th {\n",
       "        vertical-align: top;\n",
       "    }\n",
       "\n",
       "    .dataframe thead th {\n",
       "        text-align: right;\n",
       "    }\n",
       "</style>\n",
       "<table border=\"1\" class=\"dataframe\">\n",
       "  <thead>\n",
       "    <tr style=\"text-align: right;\">\n",
       "      <th></th>\n",
       "      <th>ID</th>\n",
       "      <th>Address</th>\n",
       "      <th>City</th>\n",
       "      <th>State</th>\n",
       "      <th>Country</th>\n",
       "      <th>Name</th>\n",
       "      <th>Employees</th>\n",
       "    </tr>\n",
       "  </thead>\n",
       "  <tbody>\n",
       "    <tr>\n",
       "      <th>0</th>\n",
       "      <td>1</td>\n",
       "      <td>3666 21st St</td>\n",
       "      <td>San Francisco</td>\n",
       "      <td>CA 94114</td>\n",
       "      <td>USA</td>\n",
       "      <td>Madeira</td>\n",
       "      <td>8</td>\n",
       "    </tr>\n",
       "    <tr>\n",
       "      <th>1</th>\n",
       "      <td>2</td>\n",
       "      <td>735 Dolores St</td>\n",
       "      <td>San Francisco</td>\n",
       "      <td>CA 94119</td>\n",
       "      <td>USA</td>\n",
       "      <td>Bready Shop</td>\n",
       "      <td>15</td>\n",
       "    </tr>\n",
       "    <tr>\n",
       "      <th>2</th>\n",
       "      <td>3</td>\n",
       "      <td>332 Hill St</td>\n",
       "      <td>San Francisco</td>\n",
       "      <td>California 94114</td>\n",
       "      <td>USA</td>\n",
       "      <td>Super River</td>\n",
       "      <td>25</td>\n",
       "    </tr>\n",
       "    <tr>\n",
       "      <th>3</th>\n",
       "      <td>4</td>\n",
       "      <td>3995 23rd St</td>\n",
       "      <td>San Francisco</td>\n",
       "      <td>CA 94114</td>\n",
       "      <td>USA</td>\n",
       "      <td>Ben's Shop</td>\n",
       "      <td>10</td>\n",
       "    </tr>\n",
       "    <tr>\n",
       "      <th>4</th>\n",
       "      <td>5</td>\n",
       "      <td>1056 Sanchez St</td>\n",
       "      <td>San Francisco</td>\n",
       "      <td>California</td>\n",
       "      <td>USA</td>\n",
       "      <td>Sanchez</td>\n",
       "      <td>12</td>\n",
       "    </tr>\n",
       "    <tr>\n",
       "      <th>5</th>\n",
       "      <td>6</td>\n",
       "      <td>551 Alvarado St</td>\n",
       "      <td>San Francisco</td>\n",
       "      <td>CA 94114</td>\n",
       "      <td>USA</td>\n",
       "      <td>Richvalley</td>\n",
       "      <td>20</td>\n",
       "    </tr>\n",
       "  </tbody>\n",
       "</table>\n",
       "</div>"
      ],
      "text/plain": [
       "   ID          Address           City             State Country         Name  \\\n",
       "0   1     3666 21st St  San Francisco          CA 94114     USA      Madeira   \n",
       "1   2   735 Dolores St  San Francisco          CA 94119     USA  Bready Shop   \n",
       "2   3      332 Hill St  San Francisco  California 94114     USA  Super River   \n",
       "3   4     3995 23rd St  San Francisco          CA 94114     USA   Ben's Shop   \n",
       "4   5  1056 Sanchez St  San Francisco        California     USA      Sanchez   \n",
       "5   6  551 Alvarado St  San Francisco          CA 94114     USA   Richvalley   \n",
       "\n",
       "   Employees  \n",
       "0          8  \n",
       "1         15  \n",
       "2         25  \n",
       "3         10  \n",
       "4         12  \n",
       "5         20  "
      ]
     },
     "execution_count": 6,
     "metadata": {},
     "output_type": "execute_result"
    }
   ],
   "source": [
    "smdf"
   ]
  },
  {
   "cell_type": "code",
   "execution_count": 7,
   "id": "7a4c100f",
   "metadata": {},
   "outputs": [],
   "source": [
    "nom = ArcGIS()"
   ]
  },
  {
   "cell_type": "code",
   "execution_count": 15,
   "id": "76837dd9",
   "metadata": {},
   "outputs": [],
   "source": [
    "coordinate = nom.geocode(\"3995 23rd St, San Francisco, CA94114\")"
   ]
  },
  {
   "cell_type": "code",
   "execution_count": 16,
   "id": "21e3e8b7",
   "metadata": {},
   "outputs": [
    {
     "data": {
      "text/plain": [
       "Location(3995 23rd St, San Francisco, California, 94114, (37.75292099814533, -122.43170295955227, 0.0))"
      ]
     },
     "execution_count": 16,
     "metadata": {},
     "output_type": "execute_result"
    }
   ],
   "source": [
    "coordinate"
   ]
  },
  {
   "cell_type": "code",
   "execution_count": 17,
   "id": "6c7854ba",
   "metadata": {},
   "outputs": [
    {
     "data": {
      "text/plain": [
       "37.75292099814533"
      ]
     },
     "execution_count": 17,
     "metadata": {},
     "output_type": "execute_result"
    }
   ],
   "source": [
    "coordinate.latitude"
   ]
  },
  {
   "cell_type": "code",
   "execution_count": 19,
   "id": "bb6995cc",
   "metadata": {},
   "outputs": [
    {
     "data": {
      "text/plain": [
       "-122.43170295955227"
      ]
     },
     "execution_count": 19,
     "metadata": {},
     "output_type": "execute_result"
    }
   ],
   "source": [
    "coordinate.longitude"
   ]
  },
  {
   "cell_type": "code",
   "execution_count": 20,
   "id": "a5e1ad5b",
   "metadata": {},
   "outputs": [
    {
     "data": {
      "text/plain": [
       "geopy.location.Location"
      ]
     },
     "execution_count": 20,
     "metadata": {},
     "output_type": "execute_result"
    }
   ],
   "source": [
    "type(coordinate)"
   ]
  },
  {
   "cell_type": "code",
   "execution_count": 21,
   "id": "8d70673a",
   "metadata": {},
   "outputs": [],
   "source": [
    "smdf[\"Address\"] = smdf[\"Address\"]+\", \"+smdf[\"City\"]+\", \"+smdf[\"State\"]"
   ]
  },
  {
   "cell_type": "code",
   "execution_count": 22,
   "id": "eac00860",
   "metadata": {},
   "outputs": [
    {
     "data": {
      "text/html": [
       "<div>\n",
       "<style scoped>\n",
       "    .dataframe tbody tr th:only-of-type {\n",
       "        vertical-align: middle;\n",
       "    }\n",
       "\n",
       "    .dataframe tbody tr th {\n",
       "        vertical-align: top;\n",
       "    }\n",
       "\n",
       "    .dataframe thead th {\n",
       "        text-align: right;\n",
       "    }\n",
       "</style>\n",
       "<table border=\"1\" class=\"dataframe\">\n",
       "  <thead>\n",
       "    <tr style=\"text-align: right;\">\n",
       "      <th></th>\n",
       "      <th>ID</th>\n",
       "      <th>Address</th>\n",
       "      <th>City</th>\n",
       "      <th>State</th>\n",
       "      <th>Country</th>\n",
       "      <th>Name</th>\n",
       "      <th>Employees</th>\n",
       "    </tr>\n",
       "  </thead>\n",
       "  <tbody>\n",
       "    <tr>\n",
       "      <th>0</th>\n",
       "      <td>1</td>\n",
       "      <td>3666 21st St, San Francisco, CA 94114</td>\n",
       "      <td>San Francisco</td>\n",
       "      <td>CA 94114</td>\n",
       "      <td>USA</td>\n",
       "      <td>Madeira</td>\n",
       "      <td>8</td>\n",
       "    </tr>\n",
       "    <tr>\n",
       "      <th>1</th>\n",
       "      <td>2</td>\n",
       "      <td>735 Dolores St, San Francisco, CA 94119</td>\n",
       "      <td>San Francisco</td>\n",
       "      <td>CA 94119</td>\n",
       "      <td>USA</td>\n",
       "      <td>Bready Shop</td>\n",
       "      <td>15</td>\n",
       "    </tr>\n",
       "    <tr>\n",
       "      <th>2</th>\n",
       "      <td>3</td>\n",
       "      <td>332 Hill St, San Francisco, California 94114</td>\n",
       "      <td>San Francisco</td>\n",
       "      <td>California 94114</td>\n",
       "      <td>USA</td>\n",
       "      <td>Super River</td>\n",
       "      <td>25</td>\n",
       "    </tr>\n",
       "    <tr>\n",
       "      <th>3</th>\n",
       "      <td>4</td>\n",
       "      <td>3995 23rd St, San Francisco, CA 94114</td>\n",
       "      <td>San Francisco</td>\n",
       "      <td>CA 94114</td>\n",
       "      <td>USA</td>\n",
       "      <td>Ben's Shop</td>\n",
       "      <td>10</td>\n",
       "    </tr>\n",
       "    <tr>\n",
       "      <th>4</th>\n",
       "      <td>5</td>\n",
       "      <td>1056 Sanchez St, San Francisco, California</td>\n",
       "      <td>San Francisco</td>\n",
       "      <td>California</td>\n",
       "      <td>USA</td>\n",
       "      <td>Sanchez</td>\n",
       "      <td>12</td>\n",
       "    </tr>\n",
       "    <tr>\n",
       "      <th>5</th>\n",
       "      <td>6</td>\n",
       "      <td>551 Alvarado St, San Francisco, CA 94114</td>\n",
       "      <td>San Francisco</td>\n",
       "      <td>CA 94114</td>\n",
       "      <td>USA</td>\n",
       "      <td>Richvalley</td>\n",
       "      <td>20</td>\n",
       "    </tr>\n",
       "  </tbody>\n",
       "</table>\n",
       "</div>"
      ],
      "text/plain": [
       "   ID                                       Address           City  \\\n",
       "0   1         3666 21st St, San Francisco, CA 94114  San Francisco   \n",
       "1   2       735 Dolores St, San Francisco, CA 94119  San Francisco   \n",
       "2   3  332 Hill St, San Francisco, California 94114  San Francisco   \n",
       "3   4         3995 23rd St, San Francisco, CA 94114  San Francisco   \n",
       "4   5    1056 Sanchez St, San Francisco, California  San Francisco   \n",
       "5   6      551 Alvarado St, San Francisco, CA 94114  San Francisco   \n",
       "\n",
       "              State Country         Name  Employees  \n",
       "0          CA 94114     USA      Madeira          8  \n",
       "1          CA 94119     USA  Bready Shop         15  \n",
       "2  California 94114     USA  Super River         25  \n",
       "3          CA 94114     USA   Ben's Shop         10  \n",
       "4        California     USA      Sanchez         12  \n",
       "5          CA 94114     USA   Richvalley         20  "
      ]
     },
     "execution_count": 22,
     "metadata": {},
     "output_type": "execute_result"
    }
   ],
   "source": [
    "smdf"
   ]
  },
  {
   "cell_type": "code",
   "execution_count": 23,
   "id": "a919e0ba",
   "metadata": {},
   "outputs": [],
   "source": [
    "smdf[\"Coordinate\"] = smdf[\"Address\"].apply(nom.geocode)"
   ]
  },
  {
   "cell_type": "code",
   "execution_count": 24,
   "id": "2bc40ea6",
   "metadata": {},
   "outputs": [
    {
     "data": {
      "text/html": [
       "<div>\n",
       "<style scoped>\n",
       "    .dataframe tbody tr th:only-of-type {\n",
       "        vertical-align: middle;\n",
       "    }\n",
       "\n",
       "    .dataframe tbody tr th {\n",
       "        vertical-align: top;\n",
       "    }\n",
       "\n",
       "    .dataframe thead th {\n",
       "        text-align: right;\n",
       "    }\n",
       "</style>\n",
       "<table border=\"1\" class=\"dataframe\">\n",
       "  <thead>\n",
       "    <tr style=\"text-align: right;\">\n",
       "      <th></th>\n",
       "      <th>ID</th>\n",
       "      <th>Address</th>\n",
       "      <th>City</th>\n",
       "      <th>State</th>\n",
       "      <th>Country</th>\n",
       "      <th>Name</th>\n",
       "      <th>Employees</th>\n",
       "      <th>Coordinate</th>\n",
       "    </tr>\n",
       "  </thead>\n",
       "  <tbody>\n",
       "    <tr>\n",
       "      <th>0</th>\n",
       "      <td>1</td>\n",
       "      <td>3666 21st St, San Francisco, CA 94114</td>\n",
       "      <td>San Francisco</td>\n",
       "      <td>CA 94114</td>\n",
       "      <td>USA</td>\n",
       "      <td>Madeira</td>\n",
       "      <td>8</td>\n",
       "      <td>(3666 21st St, San Francisco, California, 9411...</td>\n",
       "    </tr>\n",
       "    <tr>\n",
       "      <th>1</th>\n",
       "      <td>2</td>\n",
       "      <td>735 Dolores St, San Francisco, CA 94119</td>\n",
       "      <td>San Francisco</td>\n",
       "      <td>CA 94119</td>\n",
       "      <td>USA</td>\n",
       "      <td>Bready Shop</td>\n",
       "      <td>15</td>\n",
       "      <td>(735 Dolores St, San Francisco, California, 94...</td>\n",
       "    </tr>\n",
       "    <tr>\n",
       "      <th>2</th>\n",
       "      <td>3</td>\n",
       "      <td>332 Hill St, San Francisco, California 94114</td>\n",
       "      <td>San Francisco</td>\n",
       "      <td>California 94114</td>\n",
       "      <td>USA</td>\n",
       "      <td>Super River</td>\n",
       "      <td>25</td>\n",
       "      <td>(332 Hill St, San Francisco, California, 94114...</td>\n",
       "    </tr>\n",
       "    <tr>\n",
       "      <th>3</th>\n",
       "      <td>4</td>\n",
       "      <td>3995 23rd St, San Francisco, CA 94114</td>\n",
       "      <td>San Francisco</td>\n",
       "      <td>CA 94114</td>\n",
       "      <td>USA</td>\n",
       "      <td>Ben's Shop</td>\n",
       "      <td>10</td>\n",
       "      <td>(3995 23rd St, San Francisco, California, 9411...</td>\n",
       "    </tr>\n",
       "    <tr>\n",
       "      <th>4</th>\n",
       "      <td>5</td>\n",
       "      <td>1056 Sanchez St, San Francisco, California</td>\n",
       "      <td>San Francisco</td>\n",
       "      <td>California</td>\n",
       "      <td>USA</td>\n",
       "      <td>Sanchez</td>\n",
       "      <td>12</td>\n",
       "      <td>(1056 Sanchez St, San Francisco, California, 9...</td>\n",
       "    </tr>\n",
       "    <tr>\n",
       "      <th>5</th>\n",
       "      <td>6</td>\n",
       "      <td>551 Alvarado St, San Francisco, CA 94114</td>\n",
       "      <td>San Francisco</td>\n",
       "      <td>CA 94114</td>\n",
       "      <td>USA</td>\n",
       "      <td>Richvalley</td>\n",
       "      <td>20</td>\n",
       "      <td>(551 Alvarado St, San Francisco, California, 9...</td>\n",
       "    </tr>\n",
       "  </tbody>\n",
       "</table>\n",
       "</div>"
      ],
      "text/plain": [
       "   ID                                       Address           City  \\\n",
       "0   1         3666 21st St, San Francisco, CA 94114  San Francisco   \n",
       "1   2       735 Dolores St, San Francisco, CA 94119  San Francisco   \n",
       "2   3  332 Hill St, San Francisco, California 94114  San Francisco   \n",
       "3   4         3995 23rd St, San Francisco, CA 94114  San Francisco   \n",
       "4   5    1056 Sanchez St, San Francisco, California  San Francisco   \n",
       "5   6      551 Alvarado St, San Francisco, CA 94114  San Francisco   \n",
       "\n",
       "              State Country         Name  Employees  \\\n",
       "0          CA 94114     USA      Madeira          8   \n",
       "1          CA 94119     USA  Bready Shop         15   \n",
       "2  California 94114     USA  Super River         25   \n",
       "3          CA 94114     USA   Ben's Shop         10   \n",
       "4        California     USA      Sanchez         12   \n",
       "5          CA 94114     USA   Richvalley         20   \n",
       "\n",
       "                                          Coordinate  \n",
       "0  (3666 21st St, San Francisco, California, 9411...  \n",
       "1  (735 Dolores St, San Francisco, California, 94...  \n",
       "2  (332 Hill St, San Francisco, California, 94114...  \n",
       "3  (3995 23rd St, San Francisco, California, 9411...  \n",
       "4  (1056 Sanchez St, San Francisco, California, 9...  \n",
       "5  (551 Alvarado St, San Francisco, California, 9...  "
      ]
     },
     "execution_count": 24,
     "metadata": {},
     "output_type": "execute_result"
    }
   ],
   "source": [
    "smdf"
   ]
  },
  {
   "cell_type": "code",
   "execution_count": 28,
   "id": "e4d1a1fa",
   "metadata": {},
   "outputs": [
    {
     "data": {
      "text/plain": [
       "0    (3666 21st St, San Francisco, California, 9411...\n",
       "1    (735 Dolores St, San Francisco, California, 94...\n",
       "2    (332 Hill St, San Francisco, California, 94114...\n",
       "3    (3995 23rd St, San Francisco, California, 9411...\n",
       "4    (1056 Sanchez St, San Francisco, California, 9...\n",
       "5    (551 Alvarado St, San Francisco, California, 9...\n",
       "Name: Coordinate, dtype: object"
      ]
     },
     "execution_count": 28,
     "metadata": {},
     "output_type": "execute_result"
    }
   ],
   "source": [
    "smdf.Coordinate"
   ]
  },
  {
   "cell_type": "code",
   "execution_count": 31,
   "id": "3b3ab26d",
   "metadata": {},
   "outputs": [
    {
     "data": {
      "text/plain": [
       "Location(735 Dolores St, San Francisco, California, 94110, (37.757828979640195, -122.4253730300932, 0.0))"
      ]
     },
     "execution_count": 31,
     "metadata": {},
     "output_type": "execute_result"
    }
   ],
   "source": [
    "smdf.Coordinate[1]"
   ]
  },
  {
   "cell_type": "code",
   "execution_count": 32,
   "id": "7d34ba50",
   "metadata": {},
   "outputs": [
    {
     "data": {
      "text/plain": [
       "3    (3995 23rd St, San Francisco, California, 9411...\n",
       "4    (1056 Sanchez St, San Francisco, California, 9...\n",
       "5    (551 Alvarado St, San Francisco, California, 9...\n",
       "Name: Coordinate, dtype: object"
      ]
     },
     "execution_count": 32,
     "metadata": {},
     "output_type": "execute_result"
    }
   ],
   "source": [
    "smdf.Coordinate[3:]"
   ]
  },
  {
   "cell_type": "code",
   "execution_count": 33,
   "id": "2723371d",
   "metadata": {},
   "outputs": [
    {
     "data": {
      "text/plain": [
       "37.757828979640195"
      ]
     },
     "execution_count": 33,
     "metadata": {},
     "output_type": "execute_result"
    }
   ],
   "source": [
    "smdf.Coordinate[1].latitude"
   ]
  },
  {
   "cell_type": "code",
   "execution_count": 35,
   "id": "dd3b2a27",
   "metadata": {},
   "outputs": [
    {
     "data": {
      "text/plain": [
       "-122.4253730300932"
      ]
     },
     "execution_count": 35,
     "metadata": {},
     "output_type": "execute_result"
    }
   ],
   "source": [
    "smdf.Coordinate[1].longitude"
   ]
  },
  {
   "cell_type": "code",
   "execution_count": 38,
   "id": "e6d1e834",
   "metadata": {},
   "outputs": [],
   "source": [
    "smdf[\"latitude\"] = smdf[\"Coordinate\"].apply(lambda l: l.latitude if l != None else None)"
   ]
  },
  {
   "cell_type": "code",
   "execution_count": 40,
   "id": "f7bdfce6",
   "metadata": {},
   "outputs": [],
   "source": [
    "smdf[\"longitude\"] = smdf[\"Coordinate\"].apply(lambda l: l.longitude if l != None else None)"
   ]
  },
  {
   "cell_type": "code",
   "execution_count": 41,
   "id": "8666fd45",
   "metadata": {},
   "outputs": [
    {
     "data": {
      "text/html": [
       "<div>\n",
       "<style scoped>\n",
       "    .dataframe tbody tr th:only-of-type {\n",
       "        vertical-align: middle;\n",
       "    }\n",
       "\n",
       "    .dataframe tbody tr th {\n",
       "        vertical-align: top;\n",
       "    }\n",
       "\n",
       "    .dataframe thead th {\n",
       "        text-align: right;\n",
       "    }\n",
       "</style>\n",
       "<table border=\"1\" class=\"dataframe\">\n",
       "  <thead>\n",
       "    <tr style=\"text-align: right;\">\n",
       "      <th></th>\n",
       "      <th>ID</th>\n",
       "      <th>Address</th>\n",
       "      <th>City</th>\n",
       "      <th>State</th>\n",
       "      <th>Country</th>\n",
       "      <th>Name</th>\n",
       "      <th>Employees</th>\n",
       "      <th>Coordinate</th>\n",
       "      <th>latitude</th>\n",
       "      <th>longitude</th>\n",
       "    </tr>\n",
       "  </thead>\n",
       "  <tbody>\n",
       "    <tr>\n",
       "      <th>0</th>\n",
       "      <td>1</td>\n",
       "      <td>3666 21st St, San Francisco, CA 94114</td>\n",
       "      <td>San Francisco</td>\n",
       "      <td>CA 94114</td>\n",
       "      <td>USA</td>\n",
       "      <td>Madeira</td>\n",
       "      <td>8</td>\n",
       "      <td>(3666 21st St, San Francisco, California, 9411...</td>\n",
       "      <td>37.756632</td>\n",
       "      <td>-122.429411</td>\n",
       "    </tr>\n",
       "    <tr>\n",
       "      <th>1</th>\n",
       "      <td>2</td>\n",
       "      <td>735 Dolores St, San Francisco, CA 94119</td>\n",
       "      <td>San Francisco</td>\n",
       "      <td>CA 94119</td>\n",
       "      <td>USA</td>\n",
       "      <td>Bready Shop</td>\n",
       "      <td>15</td>\n",
       "      <td>(735 Dolores St, San Francisco, California, 94...</td>\n",
       "      <td>37.757829</td>\n",
       "      <td>-122.425373</td>\n",
       "    </tr>\n",
       "    <tr>\n",
       "      <th>2</th>\n",
       "      <td>3</td>\n",
       "      <td>332 Hill St, San Francisco, California 94114</td>\n",
       "      <td>San Francisco</td>\n",
       "      <td>California 94114</td>\n",
       "      <td>USA</td>\n",
       "      <td>Super River</td>\n",
       "      <td>25</td>\n",
       "      <td>(332 Hill St, San Francisco, California, 94114...</td>\n",
       "      <td>37.755845</td>\n",
       "      <td>-122.428813</td>\n",
       "    </tr>\n",
       "    <tr>\n",
       "      <th>3</th>\n",
       "      <td>4</td>\n",
       "      <td>3995 23rd St, San Francisco, CA 94114</td>\n",
       "      <td>San Francisco</td>\n",
       "      <td>CA 94114</td>\n",
       "      <td>USA</td>\n",
       "      <td>Ben's Shop</td>\n",
       "      <td>10</td>\n",
       "      <td>(3995 23rd St, San Francisco, California, 9411...</td>\n",
       "      <td>37.752921</td>\n",
       "      <td>-122.431703</td>\n",
       "    </tr>\n",
       "    <tr>\n",
       "      <th>4</th>\n",
       "      <td>5</td>\n",
       "      <td>1056 Sanchez St, San Francisco, California</td>\n",
       "      <td>San Francisco</td>\n",
       "      <td>California</td>\n",
       "      <td>USA</td>\n",
       "      <td>Sanchez</td>\n",
       "      <td>12</td>\n",
       "      <td>(1056 Sanchez St, San Francisco, California, 9...</td>\n",
       "      <td>37.752132</td>\n",
       "      <td>-122.430006</td>\n",
       "    </tr>\n",
       "    <tr>\n",
       "      <th>5</th>\n",
       "      <td>6</td>\n",
       "      <td>551 Alvarado St, San Francisco, CA 94114</td>\n",
       "      <td>San Francisco</td>\n",
       "      <td>CA 94114</td>\n",
       "      <td>USA</td>\n",
       "      <td>Richvalley</td>\n",
       "      <td>20</td>\n",
       "      <td>(551 Alvarado St, San Francisco, California, 9...</td>\n",
       "      <td>37.753582</td>\n",
       "      <td>-122.433234</td>\n",
       "    </tr>\n",
       "  </tbody>\n",
       "</table>\n",
       "</div>"
      ],
      "text/plain": [
       "   ID                                       Address           City  \\\n",
       "0   1         3666 21st St, San Francisco, CA 94114  San Francisco   \n",
       "1   2       735 Dolores St, San Francisco, CA 94119  San Francisco   \n",
       "2   3  332 Hill St, San Francisco, California 94114  San Francisco   \n",
       "3   4         3995 23rd St, San Francisco, CA 94114  San Francisco   \n",
       "4   5    1056 Sanchez St, San Francisco, California  San Francisco   \n",
       "5   6      551 Alvarado St, San Francisco, CA 94114  San Francisco   \n",
       "\n",
       "              State Country         Name  Employees  \\\n",
       "0          CA 94114     USA      Madeira          8   \n",
       "1          CA 94119     USA  Bready Shop         15   \n",
       "2  California 94114     USA  Super River         25   \n",
       "3          CA 94114     USA   Ben's Shop         10   \n",
       "4        California     USA      Sanchez         12   \n",
       "5          CA 94114     USA   Richvalley         20   \n",
       "\n",
       "                                          Coordinate   latitude   longitude  \n",
       "0  (3666 21st St, San Francisco, California, 9411...  37.756632 -122.429411  \n",
       "1  (735 Dolores St, San Francisco, California, 94...  37.757829 -122.425373  \n",
       "2  (332 Hill St, San Francisco, California, 94114...  37.755845 -122.428813  \n",
       "3  (3995 23rd St, San Francisco, California, 9411...  37.752921 -122.431703  \n",
       "4  (1056 Sanchez St, San Francisco, California, 9...  37.752132 -122.430006  \n",
       "5  (551 Alvarado St, San Francisco, California, 9...  37.753582 -122.433234  "
      ]
     },
     "execution_count": 41,
     "metadata": {},
     "output_type": "execute_result"
    }
   ],
   "source": [
    "smdf"
   ]
  }
 ],
 "metadata": {
  "kernelspec": {
   "display_name": "Python 3 (ipykernel)",
   "language": "python",
   "name": "python3"
  },
  "language_info": {
   "codemirror_mode": {
    "name": "ipython",
    "version": 3
   },
   "file_extension": ".py",
   "mimetype": "text/x-python",
   "name": "python",
   "nbconvert_exporter": "python",
   "pygments_lexer": "ipython3",
   "version": "3.10.0"
  }
 },
 "nbformat": 4,
 "nbformat_minor": 5
}

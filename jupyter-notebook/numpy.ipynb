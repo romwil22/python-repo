{
 "cells": [
  {
   "cell_type": "code",
   "execution_count": 1,
   "id": "0eea8237",
   "metadata": {},
   "outputs": [],
   "source": [
    "import numpy"
   ]
  },
  {
   "cell_type": "markdown",
   "id": "1b4c878a",
   "metadata": {},
   "source": [
    "# one dimensional array"
   ]
  },
  {
   "cell_type": "code",
   "execution_count": 2,
   "id": "5f40e333",
   "metadata": {},
   "outputs": [],
   "source": [
    "n = numpy.arange(27)"
   ]
  },
  {
   "cell_type": "code",
   "execution_count": 3,
   "id": "300fcb7f",
   "metadata": {},
   "outputs": [
    {
     "data": {
      "text/plain": [
       "array([ 0,  1,  2,  3,  4,  5,  6,  7,  8,  9, 10, 11, 12, 13, 14, 15, 16,\n",
       "       17, 18, 19, 20, 21, 22, 23, 24, 25, 26])"
      ]
     },
     "execution_count": 3,
     "metadata": {},
     "output_type": "execute_result"
    }
   ],
   "source": [
    "n"
   ]
  },
  {
   "cell_type": "code",
   "execution_count": 4,
   "id": "e308112a",
   "metadata": {},
   "outputs": [
    {
     "data": {
      "text/plain": [
       "numpy.ndarray"
      ]
     },
     "execution_count": 4,
     "metadata": {},
     "output_type": "execute_result"
    }
   ],
   "source": [
    "type(n)"
   ]
  },
  {
   "cell_type": "markdown",
   "id": "83256819",
   "metadata": {},
   "source": [
    "# two dimentional array"
   ]
  },
  {
   "cell_type": "code",
   "execution_count": 5,
   "id": "c142afcb",
   "metadata": {},
   "outputs": [],
   "source": [
    "n1 = n.reshape(3,9)"
   ]
  },
  {
   "cell_type": "code",
   "execution_count": 9,
   "id": "c9185c69",
   "metadata": {},
   "outputs": [
    {
     "data": {
      "text/plain": [
       "array([[ 0,  1,  2,  3,  4,  5,  6,  7,  8],\n",
       "       [ 9, 10, 11, 12, 13, 14, 15, 16, 17],\n",
       "       [18, 19, 20, 21, 22, 23, 24, 25, 26]])"
      ]
     },
     "execution_count": 9,
     "metadata": {},
     "output_type": "execute_result"
    }
   ],
   "source": [
    "n1"
   ]
  },
  {
   "cell_type": "markdown",
   "id": "7af99893",
   "metadata": {},
   "source": [
    "# three dimentional array"
   ]
  },
  {
   "cell_type": "code",
   "execution_count": 7,
   "id": "d71aaf79",
   "metadata": {},
   "outputs": [],
   "source": [
    "n2 = n.reshape(3,3,3)"
   ]
  },
  {
   "cell_type": "code",
   "execution_count": 8,
   "id": "205dc189",
   "metadata": {},
   "outputs": [
    {
     "data": {
      "text/plain": [
       "array([[[ 0,  1,  2],\n",
       "        [ 3,  4,  5],\n",
       "        [ 6,  7,  8]],\n",
       "\n",
       "       [[ 9, 10, 11],\n",
       "        [12, 13, 14],\n",
       "        [15, 16, 17]],\n",
       "\n",
       "       [[18, 19, 20],\n",
       "        [21, 22, 23],\n",
       "        [24, 25, 26]]])"
      ]
     },
     "execution_count": 8,
     "metadata": {},
     "output_type": "execute_result"
    }
   ],
   "source": [
    "n2"
   ]
  },
  {
   "cell_type": "code",
   "execution_count": 10,
   "id": "0b1575ba",
   "metadata": {},
   "outputs": [
    {
     "name": "stderr",
     "output_type": "stream",
     "text": [
      "C:\\Users\\Rom\\AppData\\Local\\Temp/ipykernel_9828/2508824919.py:1: VisibleDeprecationWarning: Creating an ndarray from ragged nested sequences (which is a list-or-tuple of lists-or-tuples-or ndarrays with different lengths or shapes) is deprecated. If you meant to do this, you must specify 'dtype=object' when creating the ndarray.\n",
      "  m = numpy.asarray([[123,12,123,12,33],[],[]])\n"
     ]
    }
   ],
   "source": [
    "m = numpy.asarray([[123,12,123,12,33],[],[]])"
   ]
  },
  {
   "cell_type": "code",
   "execution_count": 12,
   "id": "37afce31",
   "metadata": {},
   "outputs": [
    {
     "data": {
      "text/plain": [
       "array([list([123, 12, 123, 12, 33]), list([]), list([])], dtype=object)"
      ]
     },
     "execution_count": 12,
     "metadata": {},
     "output_type": "execute_result"
    }
   ],
   "source": [
    "m"
   ]
  },
  {
   "cell_type": "code",
   "execution_count": 14,
   "id": "842b2d1b",
   "metadata": {},
   "outputs": [
    {
     "name": "stdout",
     "output_type": "stream",
     "text": [
      "[list([123, 12, 123, 12, 33]) list([]) list([])]\n"
     ]
    }
   ],
   "source": [
    "print(m)"
   ]
  },
  {
   "cell_type": "markdown",
   "id": "62981050",
   "metadata": {},
   "source": [
    "# Convert Images to Numpy Arrays"
   ]
  },
  {
   "cell_type": "code",
   "execution_count": 15,
   "id": "eab94da3",
   "metadata": {},
   "outputs": [],
   "source": [
    "import cv2"
   ]
  },
  {
   "cell_type": "code",
   "execution_count": 19,
   "id": "af7e136e",
   "metadata": {},
   "outputs": [],
   "source": [
    "imageGray = cv2.imread(\"smallgray.png\", 0)"
   ]
  },
  {
   "cell_type": "code",
   "execution_count": 20,
   "id": "918f5201",
   "metadata": {},
   "outputs": [
    {
     "data": {
      "text/plain": [
       "array([[187, 158, 104, 121, 143],\n",
       "       [198, 125, 255, 255, 147],\n",
       "       [209, 134, 255,  97, 182]], dtype=uint8)"
      ]
     },
     "execution_count": 20,
     "metadata": {},
     "output_type": "execute_result"
    }
   ],
   "source": [
    "imageGray"
   ]
  },
  {
   "cell_type": "code",
   "execution_count": 21,
   "id": "e0453e29",
   "metadata": {},
   "outputs": [
    {
     "data": {
      "text/plain": [
       "True"
      ]
     },
     "execution_count": 21,
     "metadata": {},
     "output_type": "execute_result"
    }
   ],
   "source": [
    "cv2.imwrite(\"newsmallgray.png\", imageGray)"
   ]
  },
  {
   "cell_type": "markdown",
   "id": "efb48ee7",
   "metadata": {},
   "source": [
    "# Indexing, Slicing, and Iterating Numpy Arrays"
   ]
  },
  {
   "cell_type": "code",
   "execution_count": 22,
   "id": "077dca1a",
   "metadata": {},
   "outputs": [
    {
     "data": {
      "text/plain": [
       "(3, 5)"
      ]
     },
     "execution_count": 22,
     "metadata": {},
     "output_type": "execute_result"
    }
   ],
   "source": [
    "imageGray.shape"
   ]
  },
  {
   "cell_type": "code",
   "execution_count": 23,
   "id": "5663b97f",
   "metadata": {},
   "outputs": [
    {
     "data": {
      "text/plain": [
       "array([[187, 158, 104, 121, 143],\n",
       "       [198, 125, 255, 255, 147],\n",
       "       [209, 134, 255,  97, 182]], dtype=uint8)"
      ]
     },
     "execution_count": 23,
     "metadata": {},
     "output_type": "execute_result"
    }
   ],
   "source": [
    "imageGray"
   ]
  },
  {
   "cell_type": "code",
   "execution_count": 27,
   "id": "201465b9",
   "metadata": {},
   "outputs": [
    {
     "data": {
      "text/plain": [
       "array([[158, 104],\n",
       "       [125, 255]], dtype=uint8)"
      ]
     },
     "execution_count": 27,
     "metadata": {},
     "output_type": "execute_result"
    }
   ],
   "source": [
    "imageGray[0:2, 1:3]"
   ]
  },
  {
   "cell_type": "code",
   "execution_count": 28,
   "id": "d71381a2",
   "metadata": {},
   "outputs": [
    {
     "data": {
      "text/plain": [
       "array([209, 134, 255,  97, 182], dtype=uint8)"
      ]
     },
     "execution_count": 28,
     "metadata": {},
     "output_type": "execute_result"
    }
   ],
   "source": [
    "imageGray[2, :]"
   ]
  },
  {
   "cell_type": "code",
   "execution_count": 30,
   "id": "9e1b890f",
   "metadata": {},
   "outputs": [
    {
     "data": {
      "text/plain": [
       "array([121, 255,  97], dtype=uint8)"
      ]
     },
     "execution_count": 30,
     "metadata": {},
     "output_type": "execute_result"
    }
   ],
   "source": [
    "imageGray[:, 3]"
   ]
  },
  {
   "cell_type": "code",
   "execution_count": 31,
   "id": "3608b1fd",
   "metadata": {},
   "outputs": [
    {
     "data": {
      "text/plain": [
       "97"
      ]
     },
     "execution_count": 31,
     "metadata": {},
     "output_type": "execute_result"
    }
   ],
   "source": [
    "imageGray[2, 3]"
   ]
  },
  {
   "cell_type": "code",
   "execution_count": 32,
   "id": "ef30e2d5",
   "metadata": {},
   "outputs": [
    {
     "name": "stdout",
     "output_type": "stream",
     "text": [
      "[187 158 104 121 143]\n",
      "[198 125 255 255 147]\n",
      "[209 134 255  97 182]\n"
     ]
    }
   ],
   "source": [
    "for i in imageGray:\n",
    "    print(i)"
   ]
  },
  {
   "cell_type": "code",
   "execution_count": 34,
   "id": "1efd8241",
   "metadata": {},
   "outputs": [
    {
     "name": "stdout",
     "output_type": "stream",
     "text": [
      "[187 198 209]\n",
      "[158 125 134]\n",
      "[104 255 255]\n",
      "[121 255  97]\n",
      "[143 147 182]\n"
     ]
    }
   ],
   "source": [
    "for i in imageGray.T:\n",
    "    print(i)"
   ]
  },
  {
   "cell_type": "code",
   "execution_count": 35,
   "id": "671dcaa9",
   "metadata": {},
   "outputs": [
    {
     "name": "stdout",
     "output_type": "stream",
     "text": [
      "187\n",
      "158\n",
      "104\n",
      "121\n",
      "143\n",
      "198\n",
      "125\n",
      "255\n",
      "255\n",
      "147\n",
      "209\n",
      "134\n",
      "255\n",
      "97\n",
      "182\n"
     ]
    }
   ],
   "source": [
    "for i in imageGray.flat:\n",
    "    print(i)"
   ]
  },
  {
   "cell_type": "markdown",
   "id": "b0afb25f",
   "metadata": {},
   "source": [
    "# Stacking and Splitting Numpy Arrays"
   ]
  },
  {
   "cell_type": "code",
   "execution_count": 36,
   "id": "92734424",
   "metadata": {},
   "outputs": [
    {
     "data": {
      "text/plain": [
       "array([[187, 158, 104, 121, 143],\n",
       "       [198, 125, 255, 255, 147],\n",
       "       [209, 134, 255,  97, 182]], dtype=uint8)"
      ]
     },
     "execution_count": 36,
     "metadata": {},
     "output_type": "execute_result"
    }
   ],
   "source": [
    "imageGray"
   ]
  },
  {
   "cell_type": "code",
   "execution_count": 37,
   "id": "7314e6e0",
   "metadata": {},
   "outputs": [],
   "source": [
    "imageH = numpy.hstack((imageGray,imageGray))"
   ]
  },
  {
   "cell_type": "code",
   "execution_count": 38,
   "id": "6955dc6b",
   "metadata": {},
   "outputs": [
    {
     "data": {
      "text/plain": [
       "array([[187, 158, 104, 121, 143, 187, 158, 104, 121, 143],\n",
       "       [198, 125, 255, 255, 147, 198, 125, 255, 255, 147],\n",
       "       [209, 134, 255,  97, 182, 209, 134, 255,  97, 182]], dtype=uint8)"
      ]
     },
     "execution_count": 38,
     "metadata": {},
     "output_type": "execute_result"
    }
   ],
   "source": [
    "imageH"
   ]
  },
  {
   "cell_type": "code",
   "execution_count": 39,
   "id": "13af3a7d",
   "metadata": {},
   "outputs": [],
   "source": [
    "imageH = numpy.hstack((imageGray,imageGray,imageGray))"
   ]
  },
  {
   "cell_type": "code",
   "execution_count": 40,
   "id": "9ce34c45",
   "metadata": {},
   "outputs": [
    {
     "name": "stdout",
     "output_type": "stream",
     "text": [
      "[[187 158 104 121 143 187 158 104 121 143 187 158 104 121 143]\n",
      " [198 125 255 255 147 198 125 255 255 147 198 125 255 255 147]\n",
      " [209 134 255  97 182 209 134 255  97 182 209 134 255  97 182]]\n"
     ]
    }
   ],
   "source": [
    "print(image)"
   ]
  },
  {
   "cell_type": "code",
   "execution_count": 41,
   "id": "1ae54c6b",
   "metadata": {},
   "outputs": [],
   "source": [
    "imageV = numpy.vstack((imageGray,imageGray,imageGray))"
   ]
  },
  {
   "cell_type": "code",
   "execution_count": 43,
   "id": "f63f7df6",
   "metadata": {},
   "outputs": [
    {
     "data": {
      "text/plain": [
       "array([[187, 158, 104, 121, 143],\n",
       "       [198, 125, 255, 255, 147],\n",
       "       [209, 134, 255,  97, 182],\n",
       "       [187, 158, 104, 121, 143],\n",
       "       [198, 125, 255, 255, 147],\n",
       "       [209, 134, 255,  97, 182],\n",
       "       [187, 158, 104, 121, 143],\n",
       "       [198, 125, 255, 255, 147],\n",
       "       [209, 134, 255,  97, 182]], dtype=uint8)"
      ]
     },
     "execution_count": 43,
     "metadata": {},
     "output_type": "execute_result"
    }
   ],
   "source": [
    "imageV"
   ]
  },
  {
   "cell_type": "code",
   "execution_count": 48,
   "id": "a8f7d8e1",
   "metadata": {},
   "outputs": [],
   "source": [
    "splitLstH = numpy.hsplit(imageV, 5)"
   ]
  },
  {
   "cell_type": "code",
   "execution_count": 49,
   "id": "af97672e",
   "metadata": {},
   "outputs": [
    {
     "data": {
      "text/plain": [
       "[array([[187],\n",
       "        [198],\n",
       "        [209],\n",
       "        [187],\n",
       "        [198],\n",
       "        [209],\n",
       "        [187],\n",
       "        [198],\n",
       "        [209]], dtype=uint8),\n",
       " array([[158],\n",
       "        [125],\n",
       "        [134],\n",
       "        [158],\n",
       "        [125],\n",
       "        [134],\n",
       "        [158],\n",
       "        [125],\n",
       "        [134]], dtype=uint8),\n",
       " array([[104],\n",
       "        [255],\n",
       "        [255],\n",
       "        [104],\n",
       "        [255],\n",
       "        [255],\n",
       "        [104],\n",
       "        [255],\n",
       "        [255]], dtype=uint8),\n",
       " array([[121],\n",
       "        [255],\n",
       "        [ 97],\n",
       "        [121],\n",
       "        [255],\n",
       "        [ 97],\n",
       "        [121],\n",
       "        [255],\n",
       "        [ 97]], dtype=uint8),\n",
       " array([[143],\n",
       "        [147],\n",
       "        [182],\n",
       "        [143],\n",
       "        [147],\n",
       "        [182],\n",
       "        [143],\n",
       "        [147],\n",
       "        [182]], dtype=uint8)]"
      ]
     },
     "execution_count": 49,
     "metadata": {},
     "output_type": "execute_result"
    }
   ],
   "source": [
    "splitLstH"
   ]
  },
  {
   "cell_type": "code",
   "execution_count": 52,
   "id": "cd601a86",
   "metadata": {},
   "outputs": [],
   "source": [
    "splitLstV = numpy.vsplit(imageV, 3)"
   ]
  },
  {
   "cell_type": "code",
   "execution_count": 53,
   "id": "884bf354",
   "metadata": {},
   "outputs": [
    {
     "data": {
      "text/plain": [
       "[array([[187, 158, 104, 121, 143],\n",
       "        [198, 125, 255, 255, 147],\n",
       "        [209, 134, 255,  97, 182]], dtype=uint8),\n",
       " array([[187, 158, 104, 121, 143],\n",
       "        [198, 125, 255, 255, 147],\n",
       "        [209, 134, 255,  97, 182]], dtype=uint8),\n",
       " array([[187, 158, 104, 121, 143],\n",
       "        [198, 125, 255, 255, 147],\n",
       "        [209, 134, 255,  97, 182]], dtype=uint8)]"
      ]
     },
     "execution_count": 53,
     "metadata": {},
     "output_type": "execute_result"
    }
   ],
   "source": [
    "splitLstV"
   ]
  },
  {
   "cell_type": "code",
   "execution_count": 54,
   "id": "0d33affc",
   "metadata": {},
   "outputs": [
    {
     "data": {
      "text/plain": [
       "list"
      ]
     },
     "execution_count": 54,
     "metadata": {},
     "output_type": "execute_result"
    }
   ],
   "source": [
    "type(splitLstV)"
   ]
  },
  {
   "cell_type": "code",
   "execution_count": 56,
   "id": "9b772e33",
   "metadata": {},
   "outputs": [
    {
     "data": {
      "text/plain": [
       "array([[187, 158, 104, 121, 143],\n",
       "       [198, 125, 255, 255, 147],\n",
       "       [209, 134, 255,  97, 182]], dtype=uint8)"
      ]
     },
     "execution_count": 56,
     "metadata": {},
     "output_type": "execute_result"
    }
   ],
   "source": [
    "splitLstV[0]"
   ]
  },
  {
   "cell_type": "code",
   "execution_count": null,
   "id": "e9d31c00",
   "metadata": {},
   "outputs": [],
   "source": []
  }
 ],
 "metadata": {
  "kernelspec": {
   "display_name": "Python 3 (ipykernel)",
   "language": "python",
   "name": "python3"
  },
  "language_info": {
   "codemirror_mode": {
    "name": "ipython",
    "version": 3
   },
   "file_extension": ".py",
   "mimetype": "text/x-python",
   "name": "python",
   "nbconvert_exporter": "python",
   "pygments_lexer": "ipython3",
   "version": "3.10.0"
  }
 },
 "nbformat": 4,
 "nbformat_minor": 5
}

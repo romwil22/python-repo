{
 "cells": [
  {
   "cell_type": "markdown",
   "id": "236b0cae",
   "metadata": {},
   "source": [
    "# Read and plot csv file with pandas"
   ]
  },
  {
   "cell_type": "code",
   "execution_count": 3,
   "id": "e64435b4",
   "metadata": {},
   "outputs": [],
   "source": [
    "from bokeh.plotting import figure\n",
    "from bokeh.io import output_file, show\n",
    "import pandas"
   ]
  },
  {
   "cell_type": "code",
   "execution_count": 4,
   "id": "1c225472",
   "metadata": {},
   "outputs": [],
   "source": [
    "# read dataframe of csv file\n",
    "df = pandas.read_csv(\"data.csv\")\n",
    "\n",
    "# x and y axis data\n",
    "x = df[\"x\"]\n",
    "y = df[\"y\"]"
   ]
  },
  {
   "cell_type": "code",
   "execution_count": 5,
   "id": "a0ac70ee",
   "metadata": {},
   "outputs": [],
   "source": [
    "# output file\n",
    "output_file(\"line_from_csv.html\")\n",
    "\n",
    "# figure object\n",
    "f = figure()\n",
    "\n",
    "# line plot\n",
    "f.line(x,y)\n",
    "\n",
    "# plot in the figure object\n",
    "show(f)"
   ]
  },
  {
   "cell_type": "markdown",
   "id": "7e0aa623",
   "metadata": {},
   "source": [
    "# Exercise"
   ]
  },
  {
   "cell_type": "code",
   "execution_count": 12,
   "id": "23fe3390",
   "metadata": {},
   "outputs": [],
   "source": [
    "df_ed = pandas.read_csv(\"bachelors.csv\") #bachelors dataframe\n",
    "year = df_ed[\"Year\"] # year column\n",
    "engineering = df_ed[\"Engineering\"] # engineering column"
   ]
  },
  {
   "cell_type": "code",
   "execution_count": 17,
   "id": "66baf881",
   "metadata": {},
   "outputs": [],
   "source": [
    "# output file\n",
    "output_file(\"educational_data.html\")\n",
    "\n",
    "# figure object\n",
    "f = figure()\n",
    "\n",
    "# line plot\n",
    "f.line(year,engineering)\n",
    "\n",
    "# plot in the figure object\n",
    "show(f)"
   ]
  },
  {
   "cell_type": "markdown",
   "id": "c6a1824e",
   "metadata": {},
   "source": [
    "# Changing Plot Properties"
   ]
  },
  {
   "cell_type": "code",
   "execution_count": 22,
   "id": "f5c2f7ba",
   "metadata": {},
   "outputs": [],
   "source": [
    "import pandas\n",
    " \n",
    "from bokeh.plotting import figure, output_file, show\n",
    " \n",
    "df=pandas.read_excel(\"verlegenhuken.xlsx\",sheet_name=0)\n",
    "df[\"Temperature\"]=df[\"Temperature\"]/10\n",
    "df[\"Pressure\"]=df[\"Pressure\"]/10\n",
    " \n",
    "p=figure(plot_width=600,plot_height=400,tools='pan')\n",
    " \n",
    "p.title.text=\"Temperature and Air Pressure\"\n",
    "p.title.text_color=\"Gray\"\n",
    "p.title.text_font=\"arial\"\n",
    "p.title.text_font_style=\"bold\"\n",
    "p.xaxis.minor_tick_line_color=None\n",
    "p.yaxis.minor_tick_line_color=None\n",
    "p.xaxis.axis_label=\"Temperature (°C)\"\n",
    "p.yaxis.axis_label=\"Pressure (hPa)\"    \n",
    " \n",
    "p.circle(df[\"Temperature\"],df[\"Pressure\"],size=0.5)\n",
    "output_file(\"Weather.html\")\n",
    "show(p)"
   ]
  }
 ],
 "metadata": {
  "kernelspec": {
   "display_name": "Python 3 (ipykernel)",
   "language": "python",
   "name": "python3"
  },
  "language_info": {
   "codemirror_mode": {
    "name": "ipython",
    "version": 3
   },
   "file_extension": ".py",
   "mimetype": "text/x-python",
   "name": "python",
   "nbconvert_exporter": "python",
   "pygments_lexer": "ipython3",
   "version": "3.10.0"
  }
 },
 "nbformat": 4,
 "nbformat_minor": 5
}

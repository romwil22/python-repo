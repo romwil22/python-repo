{
 "cells": [
  {
   "cell_type": "markdown",
   "id": "6fd6fff8",
   "metadata": {},
   "source": [
    "# Basic bokeh line graph"
   ]
  },
  {
   "cell_type": "code",
   "execution_count": 2,
   "id": "03afc1d4",
   "metadata": {},
   "outputs": [],
   "source": [
    "from bokeh.plotting import figure\n",
    "from bokeh.io import output_file, show"
   ]
  },
  {
   "cell_type": "code",
   "execution_count": 9,
   "id": "bfa890b7",
   "metadata": {},
   "outputs": [],
   "source": [
    "# x and y axis data\n",
    "x = [1, 2 ,3, 4 ,5]\n",
    "y = [6, 7, 8 ,9, 10]"
   ]
  },
  {
   "cell_type": "code",
   "execution_count": 10,
   "id": "e65b3ba5",
   "metadata": {},
   "outputs": [],
   "source": [
    "# output file\n",
    "output_file(\"line_graph.html\")\n",
    "\n",
    "# figure object\n",
    "f = figure()\n",
    "\n",
    "# line plot\n",
    "f.line(x,y)\n",
    "\n",
    "# plot in the figure object\n",
    "show(f)"
   ]
  },
  {
   "cell_type": "markdown",
   "id": "23b29efe",
   "metadata": {},
   "source": [
    "# Triangle graph"
   ]
  },
  {
   "cell_type": "code",
   "execution_count": 11,
   "id": "dd7e7b23",
   "metadata": {},
   "outputs": [],
   "source": [
    "# output file\n",
    "output_file(\"line_graph.html\")\n",
    "\n",
    "# figure object\n",
    "f = figure()\n",
    "\n",
    "# triangle plot\n",
    "f.triangle(x,y)\n",
    "\n",
    "# plot in the figure object\n",
    "show(f)"
   ]
  },
  {
   "cell_type": "markdown",
   "id": "84cd7373",
   "metadata": {},
   "source": [
    "# Circle Graph"
   ]
  },
  {
   "cell_type": "code",
   "execution_count": null,
   "id": "3d70c758",
   "metadata": {},
   "outputs": [],
   "source": [
    "# output file\n",
    "output_file(\"line_graph.html\")\n",
    "\n",
    "# figure object\n",
    "f = figure()\n",
    "\n",
    "# circle plot\n",
    "f.circle(x,y)\n",
    "\n",
    "# plot in the figure object\n",
    "show(f)"
   ]
  }
 ],
 "metadata": {
  "kernelspec": {
   "display_name": "Python 3 (ipykernel)",
   "language": "python",
   "name": "python3"
  },
  "language_info": {
   "codemirror_mode": {
    "name": "ipython",
    "version": 3
   },
   "file_extension": ".py",
   "mimetype": "text/x-python",
   "name": "python",
   "nbconvert_exporter": "python",
   "pygments_lexer": "ipython3",
   "version": "3.10.0"
  }
 },
 "nbformat": 4,
 "nbformat_minor": 5
}

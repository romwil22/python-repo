{
 "cells": [
  {
   "cell_type": "markdown",
   "id": "4393833f",
   "metadata": {},
   "source": [
    "# Read and plot csv file with pandas"
   ]
  },
  {
   "cell_type": "code",
   "execution_count": 3,
   "id": "1068dbaa",
   "metadata": {},
   "outputs": [],
   "source": [
    "from bokeh.plotting import figure\n",
    "from bokeh.io import output_file, show\n",
    "import pandas"
   ]
  },
  {
   "cell_type": "code",
   "execution_count": 4,
   "id": "23726705",
   "metadata": {},
   "outputs": [],
   "source": [
    "# read dataframe of csv file\n",
    "df = pandas.read_csv(\"data.csv\")\n",
    "\n",
    "# x and y axis data\n",
    "x = df[\"x\"]\n",
    "y = df[\"y\"]"
   ]
  },
  {
   "cell_type": "code",
   "execution_count": 5,
   "id": "c6dc9086",
   "metadata": {},
   "outputs": [],
   "source": [
    "# output file\n",
    "output_file(\"line_from_csv.html\")\n",
    "\n",
    "# figure object\n",
    "f = figure()\n",
    "\n",
    "# line plot\n",
    "f.line(x,y)\n",
    "\n",
    "# plot in the figure object\n",
    "show(f)"
   ]
  },
  {
   "cell_type": "markdown",
   "id": "372946f7",
   "metadata": {},
   "source": [
    "# Exercise"
   ]
  },
  {
   "cell_type": "code",
   "execution_count": 12,
   "id": "70e6f77e",
   "metadata": {},
   "outputs": [],
   "source": [
    "df_ed = pandas.read_csv(\"bachelors.csv\") #bachelors dataframe\n",
    "year = df_ed[\"Year\"] # year column\n",
    "engineering = df_ed[\"Engineering\"] # engineering column"
   ]
  },
  {
   "cell_type": "code",
   "execution_count": 13,
   "id": "e61d51e7",
   "metadata": {},
   "outputs": [],
   "source": [
    "# output file\n",
    "output_file(\"educational_data.html\")\n",
    "\n",
    "# figure object\n",
    "f = figure()\n",
    "\n",
    "# line plot\n",
    "f.line(year,engineering)\n",
    "\n",
    "# plot in the figure object\n",
    "show(f)"
   ]
  },
  {
   "cell_type": "code",
   "execution_count": null,
   "id": "4e1e38c8",
   "metadata": {},
   "outputs": [],
   "source": []
  }
 ],
 "metadata": {
  "kernelspec": {
   "display_name": "Python 3 (ipykernel)",
   "language": "python",
   "name": "python3"
  },
  "language_info": {
   "codemirror_mode": {
    "name": "ipython",
    "version": 3
   },
   "file_extension": ".py",
   "mimetype": "text/x-python",
   "name": "python",
   "nbconvert_exporter": "python",
   "pygments_lexer": "ipython3",
   "version": "3.10.0"
  }
 },
 "nbformat": 4,
 "nbformat_minor": 5
}

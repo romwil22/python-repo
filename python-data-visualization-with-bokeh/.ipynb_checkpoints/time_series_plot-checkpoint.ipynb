{
 "cells": [
  {
   "cell_type": "code",
   "execution_count": 1,
   "id": "3915293d",
   "metadata": {},
   "outputs": [],
   "source": [
    "from bokeh.plotting import figure, output_file, show\n",
    "import pandas"
   ]
  },
  {
   "cell_type": "code",
   "execution_count": 7,
   "id": "486e5d6c",
   "metadata": {},
   "outputs": [],
   "source": [
    "df = pandas.read_csv(\"adbe.csv\", parse_dates = [\"Date\"])\n",
    "p = figure(width = 500, height = 300, x_axis_type = \"datetime\")\n",
    "p.line(df[\"Date\"], df[\"Close\"], color=\"orange\", alpha = 0.5)\n",
    "output_file(\"timeseries.html\")\n",
    "show(p)"
   ]
  },
  {
   "cell_type": "code",
   "execution_count": null,
   "id": "a710ebca",
   "metadata": {},
   "outputs": [],
   "source": []
  }
 ],
 "metadata": {
  "kernelspec": {
   "display_name": "Python 3 (ipykernel)",
   "language": "python",
   "name": "python3"
  },
  "language_info": {
   "codemirror_mode": {
    "name": "ipython",
    "version": 3
   },
   "file_extension": ".py",
   "mimetype": "text/x-python",
   "name": "python",
   "nbconvert_exporter": "python",
   "pygments_lexer": "ipython3",
   "version": "3.10.0"
  }
 },
 "nbformat": 4,
 "nbformat_minor": 5
}

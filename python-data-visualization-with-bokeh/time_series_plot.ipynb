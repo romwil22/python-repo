{
 "cells": [
  {
   "cell_type": "code",
   "execution_count": 1,
   "id": "ce432be3",
   "metadata": {},
   "outputs": [],
   "source": [
    "from bokeh.plotting import figure, output_file, show\n",
    "import pandas"
   ]
  },
  {
   "cell_type": "code",
   "execution_count": 18,
   "id": "244bc14d",
   "metadata": {},
   "outputs": [],
   "source": [
    "df = pandas.read_csv(\"adbe.csv\", parse_dates = [\"Date\"])\n",
    "p = figure(width = 500, height = 300, x_axis_type = \"datetime\")\n",
    "p.line(df[\"Date\"], df[\"Close\"], color=\"blue\", alpha = 0.7)\n",
    "output_file(\"timeseries.html\")\n",
    "show(p)"
   ]
  }
 ],
 "metadata": {
  "kernelspec": {
   "display_name": "Python 3 (ipykernel)",
   "language": "python",
   "name": "python3"
  },
  "language_info": {
   "codemirror_mode": {
    "name": "ipython",
    "version": 3
   },
   "file_extension": ".py",
   "mimetype": "text/x-python",
   "name": "python",
   "nbconvert_exporter": "python",
   "pygments_lexer": "ipython3",
   "version": "3.10.0"
  }
 },
 "nbformat": 4,
 "nbformat_minor": 5
}

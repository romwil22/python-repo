{
 "cells": [
  {
   "cell_type": "markdown",
   "id": "64c8c0d2",
   "metadata": {},
   "source": [
    "# Loading, Displaying, Resizing, and Creating Images"
   ]
  },
  {
   "cell_type": "code",
   "execution_count": 2,
   "id": "72be652d",
   "metadata": {},
   "outputs": [],
   "source": [
    "import cv2"
   ]
  },
  {
   "cell_type": "code",
   "execution_count": 3,
   "id": "325c946a",
   "metadata": {},
   "outputs": [],
   "source": [
    "img = cv2.imread(\"galaxy.jpg\", 0)"
   ]
  },
  {
   "cell_type": "code",
   "execution_count": 4,
   "id": "b1355211",
   "metadata": {},
   "outputs": [
    {
     "data": {
      "text/plain": [
       "numpy.ndarray"
      ]
     },
     "execution_count": 4,
     "metadata": {},
     "output_type": "execute_result"
    }
   ],
   "source": [
    "type(img)"
   ]
  },
  {
   "cell_type": "code",
   "execution_count": 5,
   "id": "1220ea04",
   "metadata": {},
   "outputs": [
    {
     "data": {
      "text/plain": [
       "array([[14, 18, 14, ..., 20, 15, 16],\n",
       "       [12, 16, 12, ..., 20, 15, 17],\n",
       "       [12, 13, 16, ..., 14, 24, 21],\n",
       "       ...,\n",
       "       [ 0,  0,  0, ...,  5,  8, 14],\n",
       "       [ 0,  0,  0, ...,  2,  3,  9],\n",
       "       [ 1,  1,  1, ...,  1,  1,  3]], dtype=uint8)"
      ]
     },
     "execution_count": 5,
     "metadata": {},
     "output_type": "execute_result"
    }
   ],
   "source": [
    "img"
   ]
  },
  {
   "cell_type": "code",
   "execution_count": 6,
   "id": "5ba97e28",
   "metadata": {},
   "outputs": [
    {
     "data": {
      "text/plain": [
       "(1485, 990)"
      ]
     },
     "execution_count": 6,
     "metadata": {},
     "output_type": "execute_result"
    }
   ],
   "source": [
    "img.shape # rows, columns"
   ]
  },
  {
   "cell_type": "code",
   "execution_count": 7,
   "id": "b8b3e111",
   "metadata": {},
   "outputs": [
    {
     "data": {
      "text/plain": [
       "2"
      ]
     },
     "execution_count": 7,
     "metadata": {},
     "output_type": "execute_result"
    }
   ],
   "source": [
    "img.ndim #dimension"
   ]
  },
  {
   "cell_type": "code",
   "execution_count": 8,
   "id": "37e47315",
   "metadata": {},
   "outputs": [],
   "source": [
    "img2 = cv2.imread(\"galaxy.jpg\", 1)"
   ]
  },
  {
   "cell_type": "code",
   "execution_count": 9,
   "id": "b53ddffd",
   "metadata": {},
   "outputs": [
    {
     "data": {
      "text/plain": [
       "numpy.ndarray"
      ]
     },
     "execution_count": 9,
     "metadata": {},
     "output_type": "execute_result"
    }
   ],
   "source": [
    "type(img2)"
   ]
  },
  {
   "cell_type": "code",
   "execution_count": 10,
   "id": "f58b941b",
   "metadata": {},
   "outputs": [
    {
     "data": {
      "text/plain": [
       "array([[[19, 15, 10],\n",
       "        [23, 19, 14],\n",
       "        [21, 15,  8],\n",
       "        ...,\n",
       "        [27, 22, 13],\n",
       "        [22, 17,  8],\n",
       "        [23, 18,  9]],\n",
       "\n",
       "       [[17, 13,  8],\n",
       "        [21, 17, 12],\n",
       "        [19, 13,  6],\n",
       "        ...,\n",
       "        [27, 22, 13],\n",
       "        [22, 17,  8],\n",
       "        [24, 19, 10]],\n",
       "\n",
       "       [[17, 14,  6],\n",
       "        [18, 15,  7],\n",
       "        [21, 18, 10],\n",
       "        ...,\n",
       "        [23, 16,  7],\n",
       "        [33, 26, 17],\n",
       "        [30, 23, 14]],\n",
       "\n",
       "       ...,\n",
       "\n",
       "       [[ 0,  0,  0],\n",
       "        [ 0,  0,  0],\n",
       "        [ 0,  0,  0],\n",
       "        ...,\n",
       "        [ 5,  5,  5],\n",
       "        [ 8,  8,  8],\n",
       "        [14, 14, 14]],\n",
       "\n",
       "       [[ 0,  0,  0],\n",
       "        [ 0,  0,  0],\n",
       "        [ 0,  0,  0],\n",
       "        ...,\n",
       "        [ 2,  2,  2],\n",
       "        [ 3,  3,  3],\n",
       "        [ 9,  9,  9]],\n",
       "\n",
       "       [[ 1,  1,  1],\n",
       "        [ 1,  1,  1],\n",
       "        [ 1,  1,  1],\n",
       "        ...,\n",
       "        [ 1,  1,  1],\n",
       "        [ 1,  1,  1],\n",
       "        [ 3,  3,  3]]], dtype=uint8)"
      ]
     },
     "execution_count": 10,
     "metadata": {},
     "output_type": "execute_result"
    }
   ],
   "source": [
    "img2"
   ]
  },
  {
   "cell_type": "code",
   "execution_count": 11,
   "id": "6256e47c",
   "metadata": {},
   "outputs": [
    {
     "data": {
      "text/plain": [
       "(1485, 990, 3)"
      ]
     },
     "execution_count": 11,
     "metadata": {},
     "output_type": "execute_result"
    }
   ],
   "source": [
    "img2.shape"
   ]
  },
  {
   "cell_type": "code",
   "execution_count": 12,
   "id": "8cb46511",
   "metadata": {},
   "outputs": [
    {
     "data": {
      "text/plain": [
       "3"
      ]
     },
     "execution_count": 12,
     "metadata": {},
     "output_type": "execute_result"
    }
   ],
   "source": [
    "img2.ndim"
   ]
  },
  {
   "cell_type": "code",
   "execution_count": 28,
   "id": "2f4faa54",
   "metadata": {},
   "outputs": [],
   "source": [
    "reimg = resize.(img, (int(img.shape[0]), int(img.shape[1])))\n",
    "cv2.imshow(\"galaxy image\", reimg)\n",
    "cv2.waitKey(0)\n",
    "cv2.destroyAllWindows()"
   ]
  },
  {
   "cell_type": "code",
   "execution_count": null,
   "id": "3c034dc0",
   "metadata": {},
   "outputs": [],
   "source": []
  }
 ],
 "metadata": {
  "kernelspec": {
   "display_name": "Python 3 (ipykernel)",
   "language": "python",
   "name": "python3"
  },
  "language_info": {
   "codemirror_mode": {
    "name": "ipython",
    "version": 3
   },
   "file_extension": ".py",
   "mimetype": "text/x-python",
   "name": "python",
   "nbconvert_exporter": "python",
   "pygments_lexer": "ipython3",
   "version": "3.10.0"
  }
 },
 "nbformat": 4,
 "nbformat_minor": 5
}
